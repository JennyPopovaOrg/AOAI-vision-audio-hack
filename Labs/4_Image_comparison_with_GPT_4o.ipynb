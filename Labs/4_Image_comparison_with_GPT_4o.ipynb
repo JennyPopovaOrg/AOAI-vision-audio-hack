{
 "cells": [
  {
   "cell_type": "markdown",
   "id": "816bdc6f",
   "metadata": {},
   "source": [
    "# Images comparison with GPT-4o Vision"
   ]
  },
  {
   "cell_type": "markdown",
   "id": "99169a7c",
   "metadata": {},
   "source": [
    "In this lab we are going to use **Azure OprnAI GPT-4o model** to compare two images and describe the difference between them.\n",
    "\n",
    "You can define where model should focus by proving your instruction in a prompt\n"
   ]
  },
  {
   "cell_type": "markdown",
   "id": "476e5b8c",
   "metadata": {},
   "source": [
    "> https://learn.microsoft.com/en-us/azure/ai-services/openai/concepts/models?tabs=python-secure%2Cglobal-standard%2Cstandard-chat-completions#gpt-4o-and-gpt-4-turbo"
   ]
  },
  {
   "cell_type": "markdown",
   "id": "8bd93120",
   "metadata": {},
   "source": [
    "Import libraries"
   ]
  },
  {
   "cell_type": "code",
   "execution_count": null,
   "id": "c3a4ff9c",
   "metadata": {},
   "outputs": [],
   "source": [
    "import datetime\n",
    "import openai\n",
    "import os\n",
    "import sys\n",
    "\n",
    "from dotenv import load_dotenv\n",
    "from IPython.display import Image, HTML\n",
    "from openai import AzureOpenAI"
   ]
  },
  {
   "cell_type": "code",
   "execution_count": null,
   "id": "3f612244",
   "metadata": {},
   "outputs": [],
   "source": [
    "def check_openai_version():\n",
    "    \"\"\"\n",
    "    Check Azure Open AI version\n",
    "    \"\"\"\n",
    "    installed_version = openai.__version__\n",
    "\n",
    "    try:\n",
    "        version_number = float(installed_version[:3])\n",
    "    except ValueError:\n",
    "        print(\"Invalid OpenAI version format\")\n",
    "        return\n",
    "\n",
    "    print(f\"Installed OpenAI version: {installed_version}\")\n",
    "\n",
    "    if version_number < 1.0:\n",
    "        print(\"[Warning] You should upgrade OpenAI to have version >= 1.0.0\")\n",
    "        print(\"To upgrade, run: %pip install openai --upgrade\")\n",
    "    else:\n",
    "        print(f\"[OK] OpenAI version {installed_version} is >= 1.0.0\")\n",
    "\n",
    "\n",
    "check_openai_version()\n",
    "print(f\"Python version: {sys.version}\")"
   ]
  },
  {
   "cell_type": "markdown",
   "id": "9742a495",
   "metadata": {},
   "source": [
    "## 1. Azure Open AI"
   ]
  },
  {
   "cell_type": "markdown",
   "id": "11e57408",
   "metadata": {},
   "source": [
    "Load environment variables"
   ]
  },
  {
   "cell_type": "code",
   "execution_count": null,
   "id": "f89590d6",
   "metadata": {},
   "outputs": [],
   "source": [
    "load_dotenv(override=True)\n",
    "\n",
    "# Azure Open AI\n",
    "openai.api_type: str = \"azure\"\n",
    "openai.api_key = os.getenv(\"AZURE_OPENAI_API_KEY\")\n",
    "openai.api_base = os.getenv(\"AZURE_OPENAI_ENDPOINT\")\n",
    "openai.api_version = os.getenv(\"AZURE_OPENAI_API_VERSION\")"
   ]
  },
  {
   "cell_type": "code",
   "execution_count": null,
   "id": "2e09c7f0",
   "metadata": {},
   "outputs": [],
   "source": [
    "model = os.getenv(\"AZURE_OPENAI_MODEL\")"
   ]
  },
  {
   "cell_type": "markdown",
   "id": "2d4084b5",
   "metadata": {},
   "source": [
    "Connect to Azure OpenAI"
   ]
  },
  {
   "cell_type": "code",
   "execution_count": null,
   "id": "ac6d4ab4",
   "metadata": {},
   "outputs": [],
   "source": [
    "endpoint = f\"{openai.api_base}/openai/deployments/{model}/chat/completions?api-version={openai.api_version}\"\n",
    "\n",
    "client = AzureOpenAI(\n",
    "    api_key=openai.api_key,\n",
    "    api_version=openai.api_version,\n",
    "    base_url=endpoint,\n",
    ")"
   ]
  },
  {
   "cell_type": "markdown",
   "id": "78363d81",
   "metadata": {},
   "source": [
    "## 2. Images comparison function"
   ]
  },
  {
   "cell_type": "markdown",
   "id": "abdb4189",
   "metadata": {},
   "source": [
    "- helper function to read and encode image file"
   ]
  },
  {
   "cell_type": "code",
   "execution_count": null,
   "id": "22061908",
   "metadata": {},
   "outputs": [],
   "source": [
    "import base64\n",
    "\n",
    "\n",
    "def open_image_as_base64(filename):\n",
    "    with open(filename, \"rb\") as image_file:\n",
    "        image_data = image_file.read()\n",
    "    image_base64 = base64.b64encode(image_data).decode(\"utf-8\")\n",
    "    return f\"data:image/png;base64,{image_base64}\""
   ]
  },
  {
   "cell_type": "markdown",
   "id": "7eb2e7fd",
   "metadata": {},
   "source": [
    "- function to provide image comparison using **Azure OpenAI GPT-4o** model"
   ]
  },
  {
   "cell_type": "code",
   "execution_count": null,
   "id": "545934dc",
   "metadata": {},
   "outputs": [],
   "source": [
    "def images_comparison(prompt, img_url1, img_url2, imgview=True):\n",
    "    \"\"\"\n",
    "    Images_comparison with Gpt-4o\n",
    "    \"\"\"\n",
    "    print(prompt)\n",
    "    print()\n",
    "    \n",
    "    if imgview:\n",
    "        # Viewing images\n",
    "        print(f\"Image 1: {img_url1} \\nImage 2: {img_url2}\")\n",
    "        display(\n",
    "            HTML(\n",
    "                \"<table><tr><td><img src={0}></td><td><img src={1}></td></tr></table>\".format(\n",
    "                    img_url1, img_url2\n",
    "                )\n",
    "            )\n",
    "        )\n",
    "\n",
    "    # Calling Azure OpenAI model\n",
    "    response = client.chat.completions.create(\n",
    "        model=model,\n",
    "        messages=[\n",
    "            {\n",
    "                \"role\": \"user\",\n",
    "                \"content\": [\n",
    "                    {\"type\": \"text\", \"text\": prompt},\n",
    "                    {\n",
    "                        \"type\": \"image_url\",\n",
    "                        \"image_url\": {\"url\": open_image_as_base64(img_url1)},\n",
    "                    },\n",
    "                    {\n",
    "                        \"type\": \"image_url\",\n",
    "                        \"image_url\": {\"url\": open_image_as_base64(img_url2)},\n",
    "                    },\n",
    "                ],\n",
    "            }\n",
    "        ],\n",
    "        max_tokens=800,\n",
    "        temperature=0,\n",
    "    )\n",
    "\n",
    "    # Print results\n",
    "    print()\n",
    "    print(\"Azure OpenAI GPT-4o results:\")\n",
    "    print(\"\\033[1;31;34m\")\n",
    "    print(response.choices[0].message.content)\n",
    "\n",
    "    print(\"\\033[1;31;32m\")\n",
    "    print(\"[Note] These results are produced by an AI.\")"
   ]
  },
  {
   "cell_type": "markdown",
   "id": "d20184d1",
   "metadata": {},
   "source": [
    "## 3. Testing"
   ]
  },
  {
   "cell_type": "markdown",
   "id": "7372077f",
   "metadata": {},
   "source": [
    "Take 2 files: original image and an image generated by **Azure OpenAI Dall-e-3** model"
   ]
  },
  {
   "cell_type": "code",
   "execution_count": null,
   "id": "984bbb9c",
   "metadata": {},
   "outputs": [],
   "source": [
    "url1 = \"../data/fashion/image1.jpg\"\n",
    "url2 = \"../data/artificial_images/dalle3_image1.jpg\""
   ]
  },
  {
   "cell_type": "markdown",
   "id": "60d239ab",
   "metadata": {},
   "source": [
    "Provide an instruction as prompt "
   ]
  },
  {
   "cell_type": "code",
   "execution_count": null,
   "id": "82437694",
   "metadata": {},
   "outputs": [],
   "source": [
    "prompt = \"What are fashion garmets in these images? Is there any difference between them? Explain the details\""
   ]
  },
  {
   "cell_type": "code",
   "execution_count": null,
   "id": "a7835fb3",
   "metadata": {},
   "outputs": [],
   "source": [
    "images_comparison(prompt, url1, url2)"
   ]
  },
  {
   "cell_type": "markdown",
   "id": "75e79e90",
   "metadata": {},
   "source": [
    "## 4. Challenge\n",
    "\n",
    "1. Compare images in data/fashion folder with artifially generate images in previous lab. They can be found in **data/artificial_images** folder "
   ]
  },
  {
   "cell_type": "code",
   "execution_count": null,
   "id": "1cac853b",
   "metadata": {},
   "outputs": [],
   "source": [
    "url1 = \"...\" # Add your image URL\n",
    "url2 = \"...\" # Add image URL for comparison\n",
    "\n",
    "prompt = \"...\" # Add your prompt\n",
    "images_comparison(prompt, url1, url2)"
   ]
  }
 ],
 "metadata": {
  "kernelspec": {
   "display_name": "Python 3",
   "language": "python",
   "name": "python3"
  },
  "language_info": {
   "codemirror_mode": {
    "name": "ipython",
    "version": 3
   },
   "file_extension": ".py",
   "mimetype": "text/x-python",
   "name": "python",
   "nbconvert_exporter": "python",
   "pygments_lexer": "ipython3",
   "version": "3.11.10"
  }
 },
 "nbformat": 4,
 "nbformat_minor": 5
}
